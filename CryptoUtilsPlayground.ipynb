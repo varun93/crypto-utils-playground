{
 "cells": [
  {
   "cell_type": "code",
   "execution_count": 181,
   "metadata": {},
   "outputs": [],
   "source": [
    "from cryptography.hazmat.backends import default_backend\n",
    "from cryptography.hazmat.primitives import serialization\n",
    "from cryptography.hazmat.primitives.asymmetric import rsa\n",
    "from cryptography.hazmat.primitives import hashes\n",
    "from cryptography.hazmat.primitives.asymmetric import padding\n",
    "from cryptography import x509\n",
    "from cryptography.x509.oid import NameOID\n",
    "import array"
   ]
  },
  {
   "cell_type": "code",
   "execution_count": 182,
   "metadata": {},
   "outputs": [],
   "source": [
    "def generateKey():\n",
    "    key = rsa.generate_private_key(\n",
    "        public_exponent=65537,\n",
    "        key_size=2048,\n",
    "        backend=default_backend()\n",
    "    )\n",
    "    return key"
   ]
  },
  {
   "cell_type": "code",
   "execution_count": 183,
   "metadata": {},
   "outputs": [],
   "source": [
    "def persistKey(key,filePath=\"key.pem\",passphrase=b\"mypassword\"):\n",
    "    with open(filePath, \"wb\") as f:\n",
    "             f.write(key.private_bytes(\n",
    "             encoding=serialization.Encoding.PEM,\n",
    "             format=serialization.PrivateFormat.TraditionalOpenSSL,\n",
    "             encryption_algorithm=serialization.BestAvailableEncryption(passphrase),\n",
    "        ))"
   ]
  },
  {
   "cell_type": "code",
   "execution_count": 184,
   "metadata": {},
   "outputs": [],
   "source": [
    "def getKeyPair(filePath=\"key.pem\",passphrase= b\"mypassword\"):\n",
    "    with open(filePath, \"rb\") as key_file:\n",
    "               privateKey = serialization.load_pem_private_key(\n",
    "               key_file.read(),\n",
    "               password=passphrase,\n",
    "               backend=default_backend()\n",
    "    )\n",
    "    publicKey = privateKey.public_key()\n",
    "    return (privateKey, publicKey)\n",
    "    "
   ]
  },
  {
   "cell_type": "code",
   "execution_count": 185,
   "metadata": {},
   "outputs": [],
   "source": [
    "def signMessage(message,privateKey):\n",
    "    signature = privateKey.sign(\n",
    "            message,\n",
    "            padding.PSS(\n",
    "            mgf=padding.MGF1(hashes.SHA256()),\n",
    "              salt_length = padding.PSS.MAX_LENGTH\n",
    "            ),\n",
    "           hashes.SHA256()\n",
    "    )\n",
    "    return signature"
   ]
  },
  {
   "cell_type": "code",
   "execution_count": 186,
   "metadata": {},
   "outputs": [],
   "source": [
    "#verify signature\n",
    "def verifySignature(signature,message, publicKey):\n",
    "    try:\n",
    "        publicKey.verify(\n",
    "                signature,\n",
    "                message,\n",
    "                padding.PSS(\n",
    "                    mgf=padding.MGF1(hashes.SHA256()),\n",
    "                    salt_length=padding.PSS.MAX_LENGTH\n",
    "               ),\n",
    "                hashes.SHA256()\n",
    "        )\n",
    "        return True\n",
    "    except:\n",
    "        return False"
   ]
  },
  {
   "cell_type": "code",
   "execution_count": 187,
   "metadata": {},
   "outputs": [],
   "source": [
    "key = generateKey()\n"
   ]
  },
  {
   "cell_type": "code",
   "execution_count": 188,
   "metadata": {},
   "outputs": [],
   "source": [
    "persistKey(key)"
   ]
  },
  {
   "cell_type": "code",
   "execution_count": 190,
   "metadata": {},
   "outputs": [],
   "source": [
    "privateKey,publicKey =  getKeyPair()"
   ]
  },
  {
   "cell_type": "code",
   "execution_count": 191,
   "metadata": {},
   "outputs": [],
   "source": [
    "message = b\"A message I want to sign\"\n",
    "signature = signMessage(message,privateKey)"
   ]
  },
  {
   "cell_type": "code",
   "execution_count": 192,
   "metadata": {},
   "outputs": [
    {
     "data": {
      "text/plain": [
       "True"
      ]
     },
     "execution_count": 192,
     "metadata": {},
     "output_type": "execute_result"
    }
   ],
   "source": [
    "verifySignature(signature, message, publicKey)"
   ]
  },
  {
   "cell_type": "code",
   "execution_count": 193,
   "metadata": {},
   "outputs": [],
   "source": [
    "def encryptMessage(message,publicKey):\n",
    "    ciphertext = publicKey.encrypt(\n",
    "            message,\n",
    "            padding.OAEP(\n",
    "            mgf=padding.MGF1(algorithm=hashes.SHA256()),\n",
    "            algorithm=hashes.SHA256(),\n",
    "            label=None\n",
    "         )\n",
    "       )\n",
    "    return ciphertext"
   ]
  },
  {
   "cell_type": "code",
   "execution_count": 194,
   "metadata": {},
   "outputs": [
    {
     "data": {
      "text/plain": [
       "b'\\x06\\x9c\\x8d*c\\xcc}\\x84\\x1a;8Jui\\x10\\x8b\\x8e\\x9f\\x8cV\\xf5WO\\xf3\\x18\\xf9\\xe62\\xa0\\xe3\\xba\\x04\\xab|>#\\xf1\\xa4\\xe2\\xe4x\\x16\\x1d\\xa2|\\xe6\\xd9\\xd8O\\xf27\\x94)X\\xe7u$\\xc52\\xf2\\xe2\\x1fLy\\xe1\\x9cX\\x10\\x137%\\x98\\xac\\x04c\\xd1nl\\x8bt\\xbb\\x1b\\xc9\\xb8\\xbd\\xa1\\xc93\\xae\\x94E(5_\\xe2\\xc5ESg\\xd4\\xf0O\\xde\\t\\xb3\\x9b\\xc3n\\xd2\\x04\\x94\\xe3O\\x01D=\\x00\\xbd\\x88\\x1f\\xab\\x86$\\xf9lq\\xed\\x8fE\\xc4X\\xd2B\\xa8\\xeaz\\xb1aqeN\\xd4\\xbc\\x90\\xa8\\x89o\\xf6\\xccO\\xda%\\x0e\\xa6r\\xa1\\x92\\x95\\xb4\\xb3[\\xf0d\\xd0\\xecp\\xab\\x8a\\xf8,\\x8a\\\\\\xa3\\xf7T\\xd6\\xfc\\x08\\xe2\\xe5\\xe8\\xc4Q\\xc6\\x17*\\x8aX\\xc6\\xfb\\xce9\\xf3\\x94-,~3Mrh\\xe1\\xde\\xf5\\xa9\\x82\\xea\\x8f>\\xf9mly\\xfe3\\x83[b\\xa5\\x97\\xc0.N\\ry\\x03\\x02\\x15\\xf4L~=\\xa4\\xc4\\xd8\\x85\\xe4`>q\\xb3\\xa4\\xdb\\x0e\\xd1\"8/3\\x13\\x1e\\xce\\xe3\\xae\\xb7\\x9c'"
      ]
     },
     "execution_count": 194,
     "metadata": {},
     "output_type": "execute_result"
    }
   ],
   "source": [
    "ciphertext"
   ]
  },
  {
   "cell_type": "code",
   "execution_count": 195,
   "metadata": {},
   "outputs": [],
   "source": [
    "def decryptMessage(ciphertext, privateKey):\n",
    "    return privateKey.decrypt(\n",
    "            ciphertext,\n",
    "            padding.OAEP(\n",
    "            mgf=padding.MGF1(algorithm=hashes.SHA256()),\n",
    "            algorithm=hashes.SHA256(),\n",
    "            label=None\n",
    "            )\n",
    "    )"
   ]
  },
  {
   "cell_type": "code",
   "execution_count": 196,
   "metadata": {},
   "outputs": [],
   "source": [
    "plaintext = b\"I am varun\"\n",
    "ciphertext = encryptMessage(plaintext,publicKey)"
   ]
  },
  {
   "cell_type": "code",
   "execution_count": 197,
   "metadata": {},
   "outputs": [
    {
     "data": {
      "text/plain": [
       "b'I am varun'"
      ]
     },
     "execution_count": 197,
     "metadata": {},
     "output_type": "execute_result"
    }
   ],
   "source": [
    "decryptMessage(ciphertext,privateKey)"
   ]
  },
  {
   "cell_type": "code",
   "execution_count": 198,
   "metadata": {},
   "outputs": [],
   "source": [
    "def serializePublicKey(publicKey):\n",
    "    return publicKey.public_bytes(\n",
    "        encoding=serialization.Encoding.PEM,\n",
    "        format=serialization.PublicFormat.SubjectPublicKeyInfo\n",
    "    )"
   ]
  },
  {
   "cell_type": "code",
   "execution_count": 177,
   "metadata": {},
   "outputs": [
    {
     "data": {
      "text/plain": [
       "b'-----BEGIN PUBLIC KEY-----\\nMIIBIjANBgkqhkiG9w0BAQEFAAOCAQ8AMIIBCgKCAQEAqbUsVpHB7ICHJ+nkfrNQ\\n0ts7kft6rWRq6dCj14ZrL1Elcan0vUUx6g2xF1joY+AnIEOzClRlE3PZDCSPAfCS\\n9wtIYAVy+oWVxWEVQ/eXlO9WAm6iE4hmZ+R3hpeOWlYCYTTdTHQCiLkx2E5SRqW4\\nXAQmem3a4ajfmudY5yLjQ8DaMey9Wh4+PFRJhZEtnubaBb0zORJRA/H5j0VynT93\\nlWJZ05prR87Io6ANLLWZGzaq/3kXj3/Y5Y+uA/6hYXxZbwR70KFCnFDwoPnKpl+X\\nhhJJzIw4XmnsAU/CT3TY2cCnZZ3DNwymsVUybMCK747J+pAXxhBlZJSivuRxZwyF\\nqQIDAQAB\\n-----END PUBLIC KEY-----\\n'"
      ]
     },
     "execution_count": 177,
     "metadata": {},
     "output_type": "execute_result"
    }
   ],
   "source": [
    "serializePublicKey(publicKey)"
   ]
  },
  {
   "cell_type": "code",
   "execution_count": 201,
   "metadata": {},
   "outputs": [],
   "source": [
    "def encodeData(data):\n",
    "    return str(data).encode('utf-8')"
   ]
  },
  {
   "cell_type": "code",
   "execution_count": 202,
   "metadata": {},
   "outputs": [
    {
     "data": {
      "text/plain": [
       "b\"['acjn34', b'-----BEGIN PUBLIC KEY-----\\\\nMIIBIjANBgkqhkiG9w0BAQEFAAOCAQ8AMIIBCgKCAQEAwrteu6s9Um9+NQ/StkPf\\\\nW+1pIT8KYtNrtmg0PdO5zTnkbEDBo+UAmpBf636fKOICRxPQ438UaxrFKmtDEYib\\\\ncInOGmw8fZ4LKQPxkRo4dlXK3cIpAG4Lzp0tqR6Ll1k68t0i1CF/O8abN98vxySC\\\\nyPBIuMPKGFsShqU1MQshGqqp3HUzXHi4fBbd6igGO7H4iAYMRbNjGeZ3XfxUvQG0\\\\nrUgg5vOyfn5P2AoY9uHGgW313CcEbEh/QQ0QOCuRo11UTRm+h+84l3UKSQUSkFOa\\\\nVnQdEN2SZOiHopC/Z/7JAZax8nMU/SkgUQ/01kTKYYYJBjo3+nBC239CcKCLqeVl\\\\n3QIDAQAB\\\\n-----END PUBLIC KEY-----\\\\n']\""
      ]
     },
     "execution_count": 202,
     "metadata": {},
     "output_type": "execute_result"
    }
   ],
   "source": [
    "dataToEncode = [\"acjn34\",serializePublicKey(publicKey)]\n",
    "encodeData(dataToEncode)"
   ]
  },
  {
   "cell_type": "code",
   "execution_count": 209,
   "metadata": {},
   "outputs": [],
   "source": [
    "def decodeBytes(bytes,toList=False):\n",
    "    try:\n",
    "        returnVal = bytes.decode('utf-8')\n",
    "        print(returnVal)\n",
    "        return returnVal\n",
    "    except:\n",
    "        raise\n",
    "#         return False"
   ]
  },
  {
   "cell_type": "code",
   "execution_count": 213,
   "metadata": {},
   "outputs": [
    {
     "data": {
      "text/plain": [
       "b'-----BEGIN PUBLIC KEY-----\\nMIIBIjANBgkqhkiG9w0BAQEFAAOCAQ8AMIIBCgKCAQEAwrteu6s9Um9+NQ/StkPf\\nW+1pIT8KYtNrtmg0PdO5zTnkbEDBo+UAmpBf636fKOICRxPQ438UaxrFKmtDEYib\\ncInOGmw8fZ4LKQPxkRo4dlXK3cIpAG4Lzp0tqR6Ll1k68t0i1CF/O8abN98vxySC\\nyPBIuMPKGFsShqU1MQshGqqp3HUzXHi4fBbd6igGO7H4iAYMRbNjGeZ3XfxUvQG0\\nrUgg5vOyfn5P2AoY9uHGgW313CcEbEh/QQ0QOCuRo11UTRm+h+84l3UKSQUSkFOa\\nVnQdEN2SZOiHopC/Z/7JAZax8nMU/SkgUQ/01kTKYYYJBjo3+nBC239CcKCLqeVl\\n3QIDAQAB\\n-----END PUBLIC KEY-----\\n'"
      ]
     },
     "execution_count": 213,
     "metadata": {},
     "output_type": "execute_result"
    }
   ],
   "source": [
    "list(dataToEncode)[1]"
   ]
  },
  {
   "cell_type": "code",
   "execution_count": 214,
   "metadata": {},
   "outputs": [],
   "source": [
    "from Crypto.PublicKey import RSA"
   ]
  },
  {
   "cell_type": "code",
   "execution_count": 215,
   "metadata": {},
   "outputs": [
    {
     "data": {
      "text/plain": [
       "<_RSAobj @0x10c047a58 n(2048),e>"
      ]
     },
     "execution_count": 215,
     "metadata": {},
     "output_type": "execute_result"
    }
   ],
   "source": [
    "RSA.importKey(list(dataToEncode)[1])"
   ]
  },
  {
   "cell_type": "code",
   "execution_count": 216,
   "metadata": {},
   "outputs": [
    {
     "data": {
      "text/plain": [
       "<cryptography.hazmat.backends.openssl.rsa._RSAPublicKey at 0x10bfa5160>"
      ]
     },
     "execution_count": 216,
     "metadata": {},
     "output_type": "execute_result"
    }
   ],
   "source": [
    "publicKey"
   ]
  },
  {
   "cell_type": "code",
   "execution_count": null,
   "metadata": {},
   "outputs": [],
   "source": []
  }
 ],
 "metadata": {
  "kernelspec": {
   "display_name": "Python 3",
   "language": "python",
   "name": "python3"
  },
  "language_info": {
   "codemirror_mode": {
    "name": "ipython",
    "version": 3
   },
   "file_extension": ".py",
   "mimetype": "text/x-python",
   "name": "python",
   "nbconvert_exporter": "python",
   "pygments_lexer": "ipython3",
   "version": "3.6.5"
  }
 },
 "nbformat": 4,
 "nbformat_minor": 2
}
